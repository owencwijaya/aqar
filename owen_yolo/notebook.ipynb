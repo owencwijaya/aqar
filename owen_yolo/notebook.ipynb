{
 "cells": [
  {
   "cell_type": "markdown",
   "metadata": {},
   "source": [
    "# Man I Dont' Know\n",
    "\n",
    "This is based on https://github.com/moises-dias/yolo-opencv-detector"
   ]
  },
  {
   "cell_type": "code",
   "execution_count": 3,
   "metadata": {},
   "outputs": [],
   "source": [
    "# import libraries\n",
    "\n",
    "\n",
    "from PIL import Image\n",
    "\n",
    "import pygetwindow as gw\n",
    "import numpy as np\n",
    "import mss.tools\n",
    "import time\n",
    "import mss\n",
    "import os"
   ]
  },
  {
   "cell_type": "code",
   "execution_count": 12,
   "metadata": {},
   "outputs": [
    {
     "name": "stdout",
     "output_type": "stream",
     "text": [
      "[capture_window] saving to images/img_0.png...\n",
      "[capture_window] saving to images/img_1.png...\n",
      "[capture_window] saving to images/img_2.png...\n",
      "[capture_window] saving to images/img_3.png...\n",
      "[capture_window] saving to images/img_4.png...\n",
      "[capture_window] saving to images/img_5.png...\n",
      "[capture_window] saving to images/img_6.png...\n",
      "[capture_window] saving to images/img_7.png...\n",
      "[capture_window] saving to images/img_8.png...\n"
     ]
    },
    {
     "ename": "KeyboardInterrupt",
     "evalue": "",
     "output_type": "error",
     "traceback": [
      "\u001b[1;31m---------------------------------------------------------------------------\u001b[0m",
      "\u001b[1;31mKeyboardInterrupt\u001b[0m                         Traceback (most recent call last)",
      "Cell \u001b[1;32mIn[12], line 37\u001b[0m\n\u001b[0;32m     35\u001b[0m \u001b[38;5;28;01mwhile\u001b[39;00m \u001b[38;5;28;01mTrue\u001b[39;00m:\n\u001b[0;32m     36\u001b[0m     capture_window()\n\u001b[1;32m---> 37\u001b[0m     \u001b[43mtime\u001b[49m\u001b[38;5;241;43m.\u001b[39;49m\u001b[43msleep\u001b[49m\u001b[43m(\u001b[49m\u001b[38;5;241;43m5\u001b[39;49m\u001b[43m)\u001b[49m\n",
      "\u001b[1;31mKeyboardInterrupt\u001b[0m: "
     ]
    }
   ],
   "source": [
    "# a function that periodically captures image from our screen\n",
    "# we use this to generate image datasets\n",
    "\n",
    "def capture_window(window_title: str = \"BlueStacks App Player\"):\n",
    "    # create path \"images\"\n",
    "    if not os.path.exists(\"images\"):\n",
    "        os.mkdir(\"images\")\n",
    "            \n",
    "    with mss.mss() as sct:\n",
    "        window = None\n",
    "        \n",
    "        # obtain window with pygetwindow\n",
    "        try:\n",
    "            window = gw.getWindowsWithTitle(window_title)[0]\n",
    "        except IndexError:\n",
    "            print(f\"Window with title '{window_title}' not found.\")\n",
    "\n",
    "            \n",
    "        if window is not None:\n",
    "            # capture screenshot of window, and save to a file\n",
    "            screenshot = sct.grab({\n",
    "                'left': window.left,\n",
    "                'top': window.top,\n",
    "                'width': window.width,\n",
    "                'height': window.height\n",
    "            })\n",
    "            filename = f\"images/img_{len(os.listdir('images'))}.png\"\n",
    "            print(f\"[capture_window] saving to {filename}...\")\n",
    "            mss.tools.to_png(\n",
    "                screenshot.rgb,\n",
    "                screenshot.size,\n",
    "                output = filename\n",
    "            )\n",
    "            \n",
    "while True:\n",
    "    capture_window()\n",
    "    time.sleep(5)"
   ]
  }
 ],
 "metadata": {
  "kernelspec": {
   "display_name": ".venv",
   "language": "python",
   "name": "python3"
  },
  "language_info": {
   "codemirror_mode": {
    "name": "ipython",
    "version": 3
   },
   "file_extension": ".py",
   "mimetype": "text/x-python",
   "name": "python",
   "nbconvert_exporter": "python",
   "pygments_lexer": "ipython3",
   "version": "3.10.9"
  }
 },
 "nbformat": 4,
 "nbformat_minor": 2
}
